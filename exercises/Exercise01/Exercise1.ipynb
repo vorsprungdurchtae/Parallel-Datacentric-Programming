{
 "cells": [
  {
   "cell_type": "markdown",
   "metadata": {},
   "source": [
    "# Exercise 1 Shared Memory "
   ]
  },
  {
   "cell_type": "markdown",
   "metadata": {},
   "source": [
    "## Task 2. C++ Threading\n",
    "#### Task 2.1. Completion of a Program Skeleton\n",
    "Complete the code shown below. Execute it with two threads and provide the program’s\n",
    "output"
   ]
  },
  {
   "cell_type": "code",
   "execution_count": null,
   "metadata": {},
   "outputs": [],
   "source": [
    "#include <iostream>\n",
    "#include <thread>"
   ]
  },
  {
   "cell_type": "code",
   "execution_count": null,
   "metadata": {},
   "outputs": [],
   "source": [
    "void hello()\n",
    "{\n",
    "    std::cout << \" Hello \" << std::endl;\n",
    "}"
   ]
  },
  {
   "cell_type": "code",
   "execution_count": null,
   "metadata": {},
   "outputs": [],
   "source": [
    "void world()\n",
    "{\n",
    "    std::cout << \" World . \" << std::endl;\n",
    "}"
   ]
  },
  {
   "cell_type": "code",
   "execution_count": null,
   "metadata": {},
   "outputs": [],
   "source": [
    "{ // create scope to execute multiple times\n",
    "    // TODO: call with two new threads\n",
    "    hello();\n",
    "    world();\n",
    "    // TODO: join the threads with the main thread\n",
    "}"
   ]
  },
  {
   "cell_type": "markdown",
   "metadata": {},
   "source": [
    "## Task 3. Deadlocks and Races\n",
    "####  Task 3.4. Existence of a Data Race\n",
    "\n",
    "The following code shows routines which all access the array `A`."
   ]
  },
  {
   "cell_type": "code",
   "execution_count": null,
   "metadata": {},
   "outputs": [],
   "source": [
    "int A [100]; /* global variable */"
   ]
  },
  {
   "cell_type": "code",
   "execution_count": null,
   "metadata": {},
   "outputs": [],
   "source": [
    "void access_one(int tid)\n",
    "{\n",
    "    A[tid] = rand();\n",
    "}"
   ]
  },
  {
   "cell_type": "code",
   "execution_count": null,
   "metadata": {},
   "outputs": [],
   "source": [
    "void access_two(int tid)\n",
    "{\n",
    "    A[tid % 10] = rand();\n",
    "}"
   ]
  },
  {
   "cell_type": "code",
   "execution_count": null,
   "metadata": {},
   "outputs": [],
   "source": [
    "void access_three(int tid)\n",
    "{\n",
    "    A[rand() % 100] = tid;\n",
    "}"
   ]
  },
  {
   "cell_type": "markdown",
   "metadata": {},
   "source": [
    "For each of these routines: can a data race occur if they are executed concurrently by multiple threads? Justify your answer."
   ]
  },
  {
   "cell_type": "markdown",
   "metadata": {},
   "source": [
    "## Task 4. Completion of the Queue Type\n",
    "\n",
    "#### Task 4.2. Implementation of the `try_pop()` member function\n",
    "Implement the `try_pop()` member function declared as follows. It should return `false` if the queue is empty, or return `true` and provide the front element in the parameter `argument` otherwise."
   ]
  },
  {
   "cell_type": "code",
   "execution_count": null,
   "metadata": {},
   "outputs": [],
   "source": [
    "#include <queue>\n",
    "\n",
    "template <typename T>\n",
    "class threadsafe_queue\n",
    "{\n",
    "private:\n",
    "    std::queue <T> data;\n",
    "    std::mutex mut;\n",
    "    std::condition_variable cond;\n",
    "\n",
    "public:\n",
    "    threadsafe_queue() {}\n",
    "    threadsafe_queue(threadsafe_queue const &other)\n",
    "    {\n",
    "        std::lock_guard <std::mutex> lk(other.mut);\n",
    "        data = other.data;\n",
    "    }\n",
    "\n",
    "    void push(T new_val)\n",
    "    {\n",
    "        std::lock_guard <std::mutex> lk(mut);\n",
    "        data.push(new_val);\n",
    "        cond.notify_one();\n",
    "    }\n",
    "    void wait_and_pop(T &value)\n",
    "    {\n",
    "        std::unique_lock <std::mutex>lk(mut);\n",
    "        cond.wait (lk, [this]{ return !data.empty(); });\n",
    "        value = data.front();\n",
    "        data.pop();\n",
    "    }\n",
    "\n",
    "    bool empty() const\n",
    "    {\n",
    "        std::lock_guard <std::mutex> lk(mut);\n",
    "        return data.empty();\n",
    "    }\n",
    "    \n",
    "    bool try_pop(T &value)\n",
    "    {\n",
    "        //TODO//\n",
    "    }\n",
    "};"
   ]
  }
 ],
 "metadata": {
  "kernelspec": {
   "display_name": "C++17",
   "language": "C++17",
   "name": "xcpp17"
  },
  "language_info": {
   "codemirror_mode": "text/x-c++src",
   "file_extension": ".cpp",
   "mimetype": "text/x-c++src",
   "name": "c++",
   "version": "17"
  }
 },
 "nbformat": 4,
 "nbformat_minor": 4
}
